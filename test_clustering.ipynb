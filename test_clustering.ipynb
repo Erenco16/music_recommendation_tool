{
 "cells": [
  {
   "cell_type": "code",
   "execution_count": 10,
   "id": "30c4455a-78c3-4fec-876b-cb1bf652269a",
   "metadata": {
    "ExecuteTime": {
     "end_time": "2024-10-28T15:11:09.672937Z",
     "start_time": "2024-10-28T15:11:09.657953Z"
    }
   },
   "outputs": [],
   "source": [
    "import pandas as pd\n",
    "import matplotlib.pyplot as plt\n",
    "\n",
    "from sklearn.preprocessing import StandardScaler\n",
    "from sklearn.cluster import KMeans\n",
    "# custom python file that converts sql query into a pandas dataframe\n",
    "from app.db_operations import readData\n"
   ]
  },
  {
   "cell_type": "code",
   "execution_count": 11,
   "id": "88fafecd-a015-4ac8-a312-0515392f90e9",
   "metadata": {
    "scrolled": true,
    "ExecuteTime": {
     "end_time": "2024-10-28T15:11:18.497254Z",
     "start_time": "2024-10-28T15:11:09.663683Z"
    }
   },
   "outputs": [
    {
     "data": {
      "text/plain": "                                   user_id         artistname  \\\n7578551   5c2b840d66d02ac7aa6a069eddd17f48        Spice Girls   \n911963    6da651f45aac18e5da52433aa3c38947       Flying Lotus   \n8049506   20350023c94899ce25cd1a86ea385853      Kristin Hersh   \n11247838  f9809d1afbab1b0aaa0c2f678a90752a  Rotary Connection   \n6160700   db9646b77f3a677040b9140489da16f1           Bastille   \n\n                                        trackname             playlistname  \n7578551                      Wannabe - Radio Edit  Lol HiGh Sk00l MeMorIeZ  \n911963    Descent Into Madness (feat. Thundercat)             Best of 2014  \n8049506                                Your Ghost  Ladies. All the ladies.  \n11247838                                This Town             To listen to  \n6160700                                   Pompeii                  Starred  ",
      "text/html": "<div>\n<style scoped>\n    .dataframe tbody tr th:only-of-type {\n        vertical-align: middle;\n    }\n\n    .dataframe tbody tr th {\n        vertical-align: top;\n    }\n\n    .dataframe thead th {\n        text-align: right;\n    }\n</style>\n<table border=\"1\" class=\"dataframe\">\n  <thead>\n    <tr style=\"text-align: right;\">\n      <th></th>\n      <th>user_id</th>\n      <th>artistname</th>\n      <th>trackname</th>\n      <th>playlistname</th>\n    </tr>\n  </thead>\n  <tbody>\n    <tr>\n      <th>7578551</th>\n      <td>5c2b840d66d02ac7aa6a069eddd17f48</td>\n      <td>Spice Girls</td>\n      <td>Wannabe - Radio Edit</td>\n      <td>Lol HiGh Sk00l MeMorIeZ</td>\n    </tr>\n    <tr>\n      <th>911963</th>\n      <td>6da651f45aac18e5da52433aa3c38947</td>\n      <td>Flying Lotus</td>\n      <td>Descent Into Madness (feat. Thundercat)</td>\n      <td>Best of 2014</td>\n    </tr>\n    <tr>\n      <th>8049506</th>\n      <td>20350023c94899ce25cd1a86ea385853</td>\n      <td>Kristin Hersh</td>\n      <td>Your Ghost</td>\n      <td>Ladies. All the ladies.</td>\n    </tr>\n    <tr>\n      <th>11247838</th>\n      <td>f9809d1afbab1b0aaa0c2f678a90752a</td>\n      <td>Rotary Connection</td>\n      <td>This Town</td>\n      <td>To listen to</td>\n    </tr>\n    <tr>\n      <th>6160700</th>\n      <td>db9646b77f3a677040b9140489da16f1</td>\n      <td>Bastille</td>\n      <td>Pompeii</td>\n      <td>Starred</td>\n    </tr>\n  </tbody>\n</table>\n</div>"
     },
     "execution_count": 11,
     "metadata": {},
     "output_type": "execute_result"
    }
   ],
   "source": [
    "df = pd.read_csv(\"/Users/godfather/Desktop/Software/spotifyWebApi/app/data/spotify_dataset.csv\",skiprows=1,\n",
    "                         names=['user_id', 'artistname', 'trackname', 'playlistname'],\n",
    "                         on_bad_lines='skip')\n",
    "df = df.sample(n=1000000, random_state=42)\n",
    "df.head()"
   ]
  },
  {
   "cell_type": "code",
   "execution_count": 12,
   "outputs": [
    {
     "data": {
      "text/plain": "Empty DataFrame\nColumns: [user_id, artistname, trackname, playlistname]\nIndex: []",
      "text/html": "<div>\n<style scoped>\n    .dataframe tbody tr th:only-of-type {\n        vertical-align: middle;\n    }\n\n    .dataframe tbody tr th {\n        vertical-align: top;\n    }\n\n    .dataframe thead th {\n        text-align: right;\n    }\n</style>\n<table border=\"1\" class=\"dataframe\">\n  <thead>\n    <tr style=\"text-align: right;\">\n      <th></th>\n      <th>user_id</th>\n      <th>artistname</th>\n      <th>trackname</th>\n      <th>playlistname</th>\n    </tr>\n  </thead>\n  <tbody>\n  </tbody>\n</table>\n</div>"
     },
     "execution_count": 12,
     "metadata": {},
     "output_type": "execute_result"
    }
   ],
   "source": [
    "df.dropna(inplace=True)\n",
    "df.isnull().sum()\n",
    "df[df.duplicated()]"
   ],
   "metadata": {
    "collapsed": false,
    "ExecuteTime": {
     "end_time": "2024-10-28T15:11:19.556937Z",
     "start_time": "2024-10-28T15:11:18.666663Z"
    }
   },
   "id": "4187710a830b6db"
  },
  {
   "cell_type": "code",
   "execution_count": 13,
   "outputs": [
    {
     "data": {
      "text/plain": "(997241, 4)"
     },
     "execution_count": 13,
     "metadata": {},
     "output_type": "execute_result"
    }
   ],
   "source": [
    "# dropping the duplicates\n",
    "df = df.drop_duplicates(keep='first')\n",
    "df.shape"
   ],
   "metadata": {
    "collapsed": false,
    "ExecuteTime": {
     "end_time": "2024-10-28T15:11:20.189414Z",
     "start_time": "2024-10-28T15:11:19.562112Z"
    }
   },
   "id": "7adc864546e3bd20"
  },
  {
   "cell_type": "code",
   "execution_count": 18,
   "outputs": [
    {
     "data": {
      "text/plain": "<bound method DataFrame.info of                                    user_id                artistname  \\\n7578551   5c2b840d66d02ac7aa6a069eddd17f48               Spice Girls   \n911963    6da651f45aac18e5da52433aa3c38947              Flying Lotus   \n8049506   20350023c94899ce25cd1a86ea385853             Kristin Hersh   \n11247838  f9809d1afbab1b0aaa0c2f678a90752a         Rotary Connection   \n6160700   db9646b77f3a677040b9140489da16f1                  Bastille   \n...                                    ...                       ...   \n6582613   4398de6902abde3351347b048fcdc287                    R.E.M.   \n9249291   c29b084662cabc7ac2207653898ca0b3                   Cazwell   \n5956985   1c43b609f0b4a55de35803000c86ade0                    Thrice   \n5334844   7eaeda7c7f9a73f23e43ddfe786e8518                 Colin Hay   \n9057079   277a3201c34aa4947e34a8290b997440  Bob Marley & The Wailers   \n\n                                        trackname                playlistname  \n7578551                      Wannabe - Radio Edit     Lol HiGh Sk00l MeMorIeZ  \n911963    Descent Into Madness (feat. Thundercat)                Best of 2014  \n8049506                                Your Ghost     Ladies. All the ladies.  \n11247838                                This Town                To listen to  \n6160700                                   Pompeii                     Starred  \n...                                           ...                         ...  \n6582613         We All Go Back To Where We Belong  Library & Streams (Part 3)  \n9249291                           I Seen Beyoncé…                     Starred  \n5956985                                 Anthology                     Starred  \n5334844         Waiting For My Real Life To Begin                running 2012  \n9057079                             Easy Skanking                    Dave Day  \n\n[997241 rows x 4 columns]>"
     },
     "execution_count": 18,
     "metadata": {},
     "output_type": "execute_result"
    }
   ],
   "source": [
    "df.info"
   ],
   "metadata": {
    "collapsed": false,
    "ExecuteTime": {
     "end_time": "2024-10-28T15:13:07.032754Z",
     "start_time": "2024-10-28T15:13:07.023215Z"
    }
   },
   "id": "fdaac29ff4473be1"
  },
  {
   "cell_type": "code",
   "execution_count": null,
   "outputs": [],
   "source": [
    "# checking if we have any null values in our data\n",
    "df.isnull().sum()"
   ],
   "metadata": {
    "collapsed": false
   },
   "id": "71cc9328fdb94670"
  },
  {
   "cell_type": "code",
   "execution_count": 19,
   "outputs": [
    {
     "data": {
      "text/plain": "Empty DataFrame\nColumns: [user_id, artistname, trackname, playlistname]\nIndex: []",
      "text/html": "<div>\n<style scoped>\n    .dataframe tbody tr th:only-of-type {\n        vertical-align: middle;\n    }\n\n    .dataframe tbody tr th {\n        vertical-align: top;\n    }\n\n    .dataframe thead th {\n        text-align: right;\n    }\n</style>\n<table border=\"1\" class=\"dataframe\">\n  <thead>\n    <tr style=\"text-align: right;\">\n      <th></th>\n      <th>user_id</th>\n      <th>artistname</th>\n      <th>trackname</th>\n      <th>playlistname</th>\n    </tr>\n  </thead>\n  <tbody>\n  </tbody>\n</table>\n</div>"
     },
     "execution_count": 19,
     "metadata": {},
     "output_type": "execute_result"
    }
   ],
   "source": [
    "# checking if we have any duplicates in our data\n",
    "df[df.duplicated()]"
   ],
   "metadata": {
    "collapsed": false,
    "ExecuteTime": {
     "end_time": "2024-10-28T15:13:10.204989Z",
     "start_time": "2024-10-28T15:13:09.372454Z"
    }
   },
   "id": "e6e5417a2110840b"
  },
  {
   "cell_type": "code",
   "execution_count": 15,
   "outputs": [
    {
     "data": {
      "text/plain": "            trackname artistname  count\n282018  Midnight City        M83    216",
      "text/html": "<div>\n<style scoped>\n    .dataframe tbody tr th:only-of-type {\n        vertical-align: middle;\n    }\n\n    .dataframe tbody tr th {\n        vertical-align: top;\n    }\n\n    .dataframe thead th {\n        text-align: right;\n    }\n</style>\n<table border=\"1\" class=\"dataframe\">\n  <thead>\n    <tr style=\"text-align: right;\">\n      <th></th>\n      <th>trackname</th>\n      <th>artistname</th>\n      <th>count</th>\n    </tr>\n  </thead>\n  <tbody>\n    <tr>\n      <th>282018</th>\n      <td>Midnight City</td>\n      <td>M83</td>\n      <td>216</td>\n    </tr>\n  </tbody>\n</table>\n</div>"
     },
     "execution_count": 15,
     "metadata": {},
     "output_type": "execute_result"
    }
   ],
   "source": [
    "# this df returns how many playlists a track appears\n",
    "grouped_by_playlist_track_df = df.groupby(['trackname', 'artistname']).size().to_frame('count').reset_index()\n",
    "max_count = grouped_by_playlist_track_df['count'].max()\n",
    "# and this gives us the maximum result\n",
    "max_result_df = grouped_by_playlist_track_df[grouped_by_playlist_track_df['count'] == max_count]\n",
    "max_result_df"
   ],
   "metadata": {
    "collapsed": false,
    "ExecuteTime": {
     "end_time": "2024-10-28T15:11:20.992957Z",
     "start_time": "2024-10-28T15:11:20.217133Z"
    }
   },
   "id": "71edcf6ba28e56c"
  },
  {
   "cell_type": "code",
   "execution_count": 17,
   "outputs": [
    {
     "data": {
      "text/plain": "user_id         0\nartistname      0\ntrackname       0\nplaylistname    0\ndtype: int64"
     },
     "execution_count": 17,
     "metadata": {},
     "output_type": "execute_result"
    }
   ],
   "source": [
    "df.isnull().sum()"
   ],
   "metadata": {
    "collapsed": false,
    "ExecuteTime": {
     "end_time": "2024-10-28T15:11:46.693923Z",
     "start_time": "2024-10-28T15:11:46.686830Z"
    }
   },
   "id": "885d472128b1cd6a"
  }
 ],
 "metadata": {
  "kernelspec": {
   "display_name": "Python 3 (ipykernel)",
   "language": "python",
   "name": "python3"
  },
  "language_info": {
   "codemirror_mode": {
    "name": "ipython",
    "version": 3
   },
   "file_extension": ".py",
   "mimetype": "text/x-python",
   "name": "python",
   "nbconvert_exporter": "python",
   "pygments_lexer": "ipython3",
   "version": "3.12.4"
  }
 },
 "nbformat": 4,
 "nbformat_minor": 5
}
