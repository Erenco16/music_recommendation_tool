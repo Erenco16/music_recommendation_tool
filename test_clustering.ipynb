{
 "cells": [
  {
   "cell_type": "code",
   "execution_count": 1,
   "id": "30c4455a-78c3-4fec-876b-cb1bf652269a",
   "metadata": {
    "ExecuteTime": {
     "end_time": "2024-10-27T15:55:14.493234Z",
     "start_time": "2024-10-27T15:55:11.036859Z"
    }
   },
   "outputs": [],
   "source": [
    "import pandas as pd\n",
    "import matplotlib.pyplot as plt\n",
    "\n",
    "from sklearn.preprocessing import StandardScaler\n",
    "from sklearn.cluster import KMeans\n",
    "# custom python file that converts sql query into a pandas dataframe\n",
    "from app.db_operations import readData\n"
   ]
  },
  {
   "cell_type": "code",
   "execution_count": 29,
   "id": "88fafecd-a015-4ac8-a312-0515392f90e9",
   "metadata": {
    "scrolled": true,
    "ExecuteTime": {
     "end_time": "2024-10-27T17:12:03.822750Z",
     "start_time": "2024-10-27T17:12:03.817639Z"
    }
   },
   "outputs": [
    {
     "ename": "NameError",
     "evalue": "name 'readData' is not defined",
     "output_type": "error",
     "traceback": [
      "\u001B[0;31m---------------------------------------------------------------------------\u001B[0m",
      "\u001B[0;31mNameError\u001B[0m                                 Traceback (most recent call last)",
      "Cell \u001B[0;32mIn[29], line 1\u001B[0m\n\u001B[0;32m----> 1\u001B[0m df \u001B[38;5;241m=\u001B[39m readData\u001B[38;5;241m.\u001B[39mread_db(\u001B[38;5;241m1000000\u001B[39m)\n\u001B[1;32m      2\u001B[0m df\u001B[38;5;241m.\u001B[39mhead()\n",
      "\u001B[0;31mNameError\u001B[0m: name 'readData' is not defined"
     ]
    }
   ],
   "source": [
    "df = pd.read_csv(\"/Users/godfather/Desktop/Software/spotifyWebApi/app/data/spotify_dataset.csv\",skiprows=1,\n",
    "                         names=['user_id', 'artistname', 'trackname', 'playlistname'],\n",
    "                         on_bad_lines='skip')\n",
    "df = df.sample(n=1000000, random_state=42)\n",
    "df.head()"
   ]
  },
  {
   "cell_type": "code",
   "execution_count": 30,
   "outputs": [
    {
     "data": {
      "text/plain": "Empty DataFrame\nColumns: [user_id, artistname, trackname, playlistname]\nIndex: []",
      "text/html": "<div>\n<style scoped>\n    .dataframe tbody tr th:only-of-type {\n        vertical-align: middle;\n    }\n\n    .dataframe tbody tr th {\n        vertical-align: top;\n    }\n\n    .dataframe thead th {\n        text-align: right;\n    }\n</style>\n<table border=\"1\" class=\"dataframe\">\n  <thead>\n    <tr style=\"text-align: right;\">\n      <th></th>\n      <th>user_id</th>\n      <th>artistname</th>\n      <th>trackname</th>\n      <th>playlistname</th>\n    </tr>\n  </thead>\n  <tbody>\n  </tbody>\n</table>\n</div>"
     },
     "execution_count": 30,
     "metadata": {},
     "output_type": "execute_result"
    }
   ],
   "source": [
    "df.dropna(inplace=True)\n",
    "df.isnull().sum()\n",
    "df[df.duplicated()]"
   ],
   "metadata": {
    "collapsed": false,
    "ExecuteTime": {
     "end_time": "2024-10-27T17:12:06.359172Z",
     "start_time": "2024-10-27T17:12:05.083122Z"
    }
   },
   "id": "4187710a830b6db"
  },
  {
   "cell_type": "code",
   "execution_count": 31,
   "outputs": [
    {
     "data": {
      "text/plain": "                                   user_id                artistname  \\\n7578551   5c2b840d66d02ac7aa6a069eddd17f48               Spice Girls   \n911963    6da651f45aac18e5da52433aa3c38947              Flying Lotus   \n8049506   20350023c94899ce25cd1a86ea385853             Kristin Hersh   \n11247838  f9809d1afbab1b0aaa0c2f678a90752a         Rotary Connection   \n6160700   db9646b77f3a677040b9140489da16f1                  Bastille   \n...                                    ...                       ...   \n6582613   4398de6902abde3351347b048fcdc287                    R.E.M.   \n9249291   c29b084662cabc7ac2207653898ca0b3                   Cazwell   \n5956985   1c43b609f0b4a55de35803000c86ade0                    Thrice   \n5334844   7eaeda7c7f9a73f23e43ddfe786e8518                 Colin Hay   \n9057079   277a3201c34aa4947e34a8290b997440  Bob Marley & The Wailers   \n\n                                        trackname                playlistname  \n7578551                      Wannabe - Radio Edit     Lol HiGh Sk00l MeMorIeZ  \n911963    Descent Into Madness (feat. Thundercat)                Best of 2014  \n8049506                                Your Ghost     Ladies. All the ladies.  \n11247838                                This Town                To listen to  \n6160700                                   Pompeii                     Starred  \n...                                           ...                         ...  \n6582613         We All Go Back To Where We Belong  Library & Streams (Part 3)  \n9249291                           I Seen Beyoncé…                     Starred  \n5956985                                 Anthology                     Starred  \n5334844         Waiting For My Real Life To Begin                running 2012  \n9057079                             Easy Skanking                    Dave Day  \n\n[997241 rows x 4 columns]",
      "text/html": "<div>\n<style scoped>\n    .dataframe tbody tr th:only-of-type {\n        vertical-align: middle;\n    }\n\n    .dataframe tbody tr th {\n        vertical-align: top;\n    }\n\n    .dataframe thead th {\n        text-align: right;\n    }\n</style>\n<table border=\"1\" class=\"dataframe\">\n  <thead>\n    <tr style=\"text-align: right;\">\n      <th></th>\n      <th>user_id</th>\n      <th>artistname</th>\n      <th>trackname</th>\n      <th>playlistname</th>\n    </tr>\n  </thead>\n  <tbody>\n    <tr>\n      <th>7578551</th>\n      <td>5c2b840d66d02ac7aa6a069eddd17f48</td>\n      <td>Spice Girls</td>\n      <td>Wannabe - Radio Edit</td>\n      <td>Lol HiGh Sk00l MeMorIeZ</td>\n    </tr>\n    <tr>\n      <th>911963</th>\n      <td>6da651f45aac18e5da52433aa3c38947</td>\n      <td>Flying Lotus</td>\n      <td>Descent Into Madness (feat. Thundercat)</td>\n      <td>Best of 2014</td>\n    </tr>\n    <tr>\n      <th>8049506</th>\n      <td>20350023c94899ce25cd1a86ea385853</td>\n      <td>Kristin Hersh</td>\n      <td>Your Ghost</td>\n      <td>Ladies. All the ladies.</td>\n    </tr>\n    <tr>\n      <th>11247838</th>\n      <td>f9809d1afbab1b0aaa0c2f678a90752a</td>\n      <td>Rotary Connection</td>\n      <td>This Town</td>\n      <td>To listen to</td>\n    </tr>\n    <tr>\n      <th>6160700</th>\n      <td>db9646b77f3a677040b9140489da16f1</td>\n      <td>Bastille</td>\n      <td>Pompeii</td>\n      <td>Starred</td>\n    </tr>\n    <tr>\n      <th>...</th>\n      <td>...</td>\n      <td>...</td>\n      <td>...</td>\n      <td>...</td>\n    </tr>\n    <tr>\n      <th>6582613</th>\n      <td>4398de6902abde3351347b048fcdc287</td>\n      <td>R.E.M.</td>\n      <td>We All Go Back To Where We Belong</td>\n      <td>Library &amp; Streams (Part 3)</td>\n    </tr>\n    <tr>\n      <th>9249291</th>\n      <td>c29b084662cabc7ac2207653898ca0b3</td>\n      <td>Cazwell</td>\n      <td>I Seen Beyoncé…</td>\n      <td>Starred</td>\n    </tr>\n    <tr>\n      <th>5956985</th>\n      <td>1c43b609f0b4a55de35803000c86ade0</td>\n      <td>Thrice</td>\n      <td>Anthology</td>\n      <td>Starred</td>\n    </tr>\n    <tr>\n      <th>5334844</th>\n      <td>7eaeda7c7f9a73f23e43ddfe786e8518</td>\n      <td>Colin Hay</td>\n      <td>Waiting For My Real Life To Begin</td>\n      <td>running 2012</td>\n    </tr>\n    <tr>\n      <th>9057079</th>\n      <td>277a3201c34aa4947e34a8290b997440</td>\n      <td>Bob Marley &amp; The Wailers</td>\n      <td>Easy Skanking</td>\n      <td>Dave Day</td>\n    </tr>\n  </tbody>\n</table>\n<p>997241 rows × 4 columns</p>\n</div>"
     },
     "execution_count": 31,
     "metadata": {},
     "output_type": "execute_result"
    }
   ],
   "source": [
    "# dropping the duplicates\n",
    "df = df.drop_duplicates(keep='first')\n",
    "df"
   ],
   "metadata": {
    "collapsed": false,
    "ExecuteTime": {
     "end_time": "2024-10-27T17:12:07.337384Z",
     "start_time": "2024-10-27T17:12:06.367053Z"
    }
   },
   "id": "7adc864546e3bd20"
  },
  {
   "cell_type": "markdown",
   "source": [],
   "metadata": {
    "collapsed": false
   },
   "id": "8a48479ea47cbf66"
  },
  {
   "cell_type": "code",
   "execution_count": 36,
   "outputs": [
    {
     "data": {
      "text/plain": "            trackname artistname  count\n282018  Midnight City        M83    216",
      "text/html": "<div>\n<style scoped>\n    .dataframe tbody tr th:only-of-type {\n        vertical-align: middle;\n    }\n\n    .dataframe tbody tr th {\n        vertical-align: top;\n    }\n\n    .dataframe thead th {\n        text-align: right;\n    }\n</style>\n<table border=\"1\" class=\"dataframe\">\n  <thead>\n    <tr style=\"text-align: right;\">\n      <th></th>\n      <th>trackname</th>\n      <th>artistname</th>\n      <th>count</th>\n    </tr>\n  </thead>\n  <tbody>\n    <tr>\n      <th>282018</th>\n      <td>Midnight City</td>\n      <td>M83</td>\n      <td>216</td>\n    </tr>\n  </tbody>\n</table>\n</div>"
     },
     "execution_count": 36,
     "metadata": {},
     "output_type": "execute_result"
    }
   ],
   "source": [
    "# this df returns how many playlists a track appears\n",
    "result_df = df.groupby(['trackname', 'artistname']).size().to_frame('count').reset_index()\n",
    "max_count = result_df['count'].max()\n",
    "# and this gives us the maximum result\n",
    "max_result_df = result_df[result_df['count'] == max_count]\n",
    "max_result_df"
   ],
   "metadata": {
    "collapsed": false,
    "ExecuteTime": {
     "end_time": "2024-10-27T17:31:33.682030Z",
     "start_time": "2024-10-27T17:31:32.281326Z"
    }
   },
   "id": "71edcf6ba28e56c"
  },
  {
   "cell_type": "code",
   "execution_count": null,
   "outputs": [],
   "source": [],
   "metadata": {
    "collapsed": false
   },
   "id": "885d472128b1cd6a"
  }
 ],
 "metadata": {
  "kernelspec": {
   "display_name": "Python 3 (ipykernel)",
   "language": "python",
   "name": "python3"
  },
  "language_info": {
   "codemirror_mode": {
    "name": "ipython",
    "version": 3
   },
   "file_extension": ".py",
   "mimetype": "text/x-python",
   "name": "python",
   "nbconvert_exporter": "python",
   "pygments_lexer": "ipython3",
   "version": "3.12.4"
  }
 },
 "nbformat": 4,
 "nbformat_minor": 5
}
