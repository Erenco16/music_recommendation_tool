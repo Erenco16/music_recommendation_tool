{
 "cells": [
  {
   "cell_type": "code",
   "execution_count": 1,
   "id": "30c4455a-78c3-4fec-876b-cb1bf652269a",
   "metadata": {
    "ExecuteTime": {
     "end_time": "2024-10-27T15:55:14.493234Z",
     "start_time": "2024-10-27T15:55:11.036859Z"
    }
   },
   "outputs": [],
   "source": [
    "import pandas as pd\n",
    "import matplotlib.pyplot as plt\n",
    "\n",
    "from sklearn.preprocessing import StandardScaler\n",
    "from sklearn.cluster import KMeans"
   ]
  },
  {
   "cell_type": "code",
   "execution_count": 4,
   "id": "88fafecd-a015-4ac8-a312-0515392f90e9",
   "metadata": {
    "scrolled": true,
    "ExecuteTime": {
     "end_time": "2024-10-27T16:03:32.607115Z",
     "start_time": "2024-10-27T16:03:18.075864Z"
    }
   },
   "outputs": [
    {
     "data": {
      "text/plain": "                                   user_id         artistname  \\\n7578551   5c2b840d66d02ac7aa6a069eddd17f48        Spice Girls   \n911963    6da651f45aac18e5da52433aa3c38947       Flying Lotus   \n8049506   20350023c94899ce25cd1a86ea385853      Kristin Hersh   \n11247838  f9809d1afbab1b0aaa0c2f678a90752a  Rotary Connection   \n6160700   db9646b77f3a677040b9140489da16f1           Bastille   \n\n                                        trackname             playlistname  \n7578551                      Wannabe - Radio Edit  Lol HiGh Sk00l MeMorIeZ  \n911963    Descent Into Madness (feat. Thundercat)             Best of 2014  \n8049506                                Your Ghost  Ladies. All the ladies.  \n11247838                                This Town             To listen to  \n6160700                                   Pompeii                  Starred  ",
      "text/html": "<div>\n<style scoped>\n    .dataframe tbody tr th:only-of-type {\n        vertical-align: middle;\n    }\n\n    .dataframe tbody tr th {\n        vertical-align: top;\n    }\n\n    .dataframe thead th {\n        text-align: right;\n    }\n</style>\n<table border=\"1\" class=\"dataframe\">\n  <thead>\n    <tr style=\"text-align: right;\">\n      <th></th>\n      <th>user_id</th>\n      <th>artistname</th>\n      <th>trackname</th>\n      <th>playlistname</th>\n    </tr>\n  </thead>\n  <tbody>\n    <tr>\n      <th>7578551</th>\n      <td>5c2b840d66d02ac7aa6a069eddd17f48</td>\n      <td>Spice Girls</td>\n      <td>Wannabe - Radio Edit</td>\n      <td>Lol HiGh Sk00l MeMorIeZ</td>\n    </tr>\n    <tr>\n      <th>911963</th>\n      <td>6da651f45aac18e5da52433aa3c38947</td>\n      <td>Flying Lotus</td>\n      <td>Descent Into Madness (feat. Thundercat)</td>\n      <td>Best of 2014</td>\n    </tr>\n    <tr>\n      <th>8049506</th>\n      <td>20350023c94899ce25cd1a86ea385853</td>\n      <td>Kristin Hersh</td>\n      <td>Your Ghost</td>\n      <td>Ladies. All the ladies.</td>\n    </tr>\n    <tr>\n      <th>11247838</th>\n      <td>f9809d1afbab1b0aaa0c2f678a90752a</td>\n      <td>Rotary Connection</td>\n      <td>This Town</td>\n      <td>To listen to</td>\n    </tr>\n    <tr>\n      <th>6160700</th>\n      <td>db9646b77f3a677040b9140489da16f1</td>\n      <td>Bastille</td>\n      <td>Pompeii</td>\n      <td>Starred</td>\n    </tr>\n  </tbody>\n</table>\n</div>"
     },
     "execution_count": 4,
     "metadata": {},
     "output_type": "execute_result"
    }
   ],
   "source": [
    "df = pd.read_csv(\"/Users/godfather/Desktop/Software/spotifyWebApi/app/data/spotify_dataset.csv\",skiprows=1,\n",
    "                         names=['user_id', 'artistname', 'trackname', 'playlistname'],\n",
    "                         on_bad_lines='skip')\n",
    "df = df.sample(n=10000, random_state=42)\n",
    "df.head()"
   ]
  },
  {
   "cell_type": "code",
   "execution_count": 9,
   "outputs": [
    {
     "data": {
      "text/plain": "Empty DataFrame\nColumns: [user_id, artistname, trackname, playlistname]\nIndex: []",
      "text/html": "<div>\n<style scoped>\n    .dataframe tbody tr th:only-of-type {\n        vertical-align: middle;\n    }\n\n    .dataframe tbody tr th {\n        vertical-align: top;\n    }\n\n    .dataframe thead th {\n        text-align: right;\n    }\n</style>\n<table border=\"1\" class=\"dataframe\">\n  <thead>\n    <tr style=\"text-align: right;\">\n      <th></th>\n      <th>user_id</th>\n      <th>artistname</th>\n      <th>trackname</th>\n      <th>playlistname</th>\n    </tr>\n  </thead>\n  <tbody>\n  </tbody>\n</table>\n</div>"
     },
     "execution_count": 9,
     "metadata": {},
     "output_type": "execute_result"
    }
   ],
   "source": [
    "df.dropna(inplace=True)\n",
    "df.isnull().sum()\n",
    "df[df.duplicated()]"
   ],
   "metadata": {
    "collapsed": false,
    "ExecuteTime": {
     "end_time": "2024-10-27T16:05:30.256460Z",
     "start_time": "2024-10-27T16:05:30.246412Z"
    }
   },
   "id": "4187710a830b6db"
  },
  {
   "cell_type": "code",
   "execution_count": 12,
   "outputs": [
    {
     "data": {
      "text/plain": "                                   user_id          artistname  \\\n7578551   5c2b840d66d02ac7aa6a069eddd17f48         Spice Girls   \n911963    6da651f45aac18e5da52433aa3c38947        Flying Lotus   \n8049506   20350023c94899ce25cd1a86ea385853       Kristin Hersh   \n11247838  f9809d1afbab1b0aaa0c2f678a90752a   Rotary Connection   \n6160700   db9646b77f3a677040b9140489da16f1            Bastille   \n...                                    ...                 ...   \n3302895   6752faf971cd451d87b270621979e2d5           Olly Murs   \n10846423  4742b3dcd1abcc05f4a9b4cb296227c9         2015 Matrix   \n5877436   8cc3ab9e69701d4c809c9c98af9af832                Nach   \n3270544   83cdab733d2bf03663f4d56a57eb3045     Michael Jackson   \n5182654   3c4d9cf0d5c2e3d8b0595da950bfecfd  Grant-Lee Phillips   \n\n                                        trackname  \\\n7578551                      Wannabe - Radio Edit   \n911963    Descent Into Madness (feat. Thundercat)   \n8049506                                Your Ghost   \n11247838                                This Town   \n6160700                                   Pompeii   \n...                                           ...   \n3302895                    Please Don't Let Me Go   \n10846423                  You Make Me Feel Better   \n5877436                           Efectos Vocales   \n3270544                             Give In To Me   \n5182654                      Far End of the Night   \n\n                            playlistname  \n7578551          Lol HiGh Sk00l MeMorIeZ  \n911963                      Best of 2014  \n8049506          Ladies. All the ladies.  \n11247838                    To listen to  \n6160700                          Starred  \n...                                  ...  \n3302895   wt sorted by decreasing energy  \n10846423                        May 2015  \n5877436                      Rap Español  \n3270544                  michael jackson  \n5182654                            -'00s  \n\n[998 rows x 4 columns]",
      "text/html": "<div>\n<style scoped>\n    .dataframe tbody tr th:only-of-type {\n        vertical-align: middle;\n    }\n\n    .dataframe tbody tr th {\n        vertical-align: top;\n    }\n\n    .dataframe thead th {\n        text-align: right;\n    }\n</style>\n<table border=\"1\" class=\"dataframe\">\n  <thead>\n    <tr style=\"text-align: right;\">\n      <th></th>\n      <th>user_id</th>\n      <th>artistname</th>\n      <th>trackname</th>\n      <th>playlistname</th>\n    </tr>\n  </thead>\n  <tbody>\n    <tr>\n      <th>7578551</th>\n      <td>5c2b840d66d02ac7aa6a069eddd17f48</td>\n      <td>Spice Girls</td>\n      <td>Wannabe - Radio Edit</td>\n      <td>Lol HiGh Sk00l MeMorIeZ</td>\n    </tr>\n    <tr>\n      <th>911963</th>\n      <td>6da651f45aac18e5da52433aa3c38947</td>\n      <td>Flying Lotus</td>\n      <td>Descent Into Madness (feat. Thundercat)</td>\n      <td>Best of 2014</td>\n    </tr>\n    <tr>\n      <th>8049506</th>\n      <td>20350023c94899ce25cd1a86ea385853</td>\n      <td>Kristin Hersh</td>\n      <td>Your Ghost</td>\n      <td>Ladies. All the ladies.</td>\n    </tr>\n    <tr>\n      <th>11247838</th>\n      <td>f9809d1afbab1b0aaa0c2f678a90752a</td>\n      <td>Rotary Connection</td>\n      <td>This Town</td>\n      <td>To listen to</td>\n    </tr>\n    <tr>\n      <th>6160700</th>\n      <td>db9646b77f3a677040b9140489da16f1</td>\n      <td>Bastille</td>\n      <td>Pompeii</td>\n      <td>Starred</td>\n    </tr>\n    <tr>\n      <th>...</th>\n      <td>...</td>\n      <td>...</td>\n      <td>...</td>\n      <td>...</td>\n    </tr>\n    <tr>\n      <th>3302895</th>\n      <td>6752faf971cd451d87b270621979e2d5</td>\n      <td>Olly Murs</td>\n      <td>Please Don't Let Me Go</td>\n      <td>wt sorted by decreasing energy</td>\n    </tr>\n    <tr>\n      <th>10846423</th>\n      <td>4742b3dcd1abcc05f4a9b4cb296227c9</td>\n      <td>2015 Matrix</td>\n      <td>You Make Me Feel Better</td>\n      <td>May 2015</td>\n    </tr>\n    <tr>\n      <th>5877436</th>\n      <td>8cc3ab9e69701d4c809c9c98af9af832</td>\n      <td>Nach</td>\n      <td>Efectos Vocales</td>\n      <td>Rap Español</td>\n    </tr>\n    <tr>\n      <th>3270544</th>\n      <td>83cdab733d2bf03663f4d56a57eb3045</td>\n      <td>Michael Jackson</td>\n      <td>Give In To Me</td>\n      <td>michael jackson</td>\n    </tr>\n    <tr>\n      <th>5182654</th>\n      <td>3c4d9cf0d5c2e3d8b0595da950bfecfd</td>\n      <td>Grant-Lee Phillips</td>\n      <td>Far End of the Night</td>\n      <td>-'00s</td>\n    </tr>\n  </tbody>\n</table>\n<p>998 rows × 4 columns</p>\n</div>"
     },
     "execution_count": 12,
     "metadata": {},
     "output_type": "execute_result"
    }
   ],
   "source": [
    "# dropping the duplicates\n",
    "df = df.drop_duplicates(keep='first')\n",
    "df"
   ],
   "metadata": {
    "collapsed": false,
    "ExecuteTime": {
     "end_time": "2024-10-27T16:06:15.288884Z",
     "start_time": "2024-10-27T16:06:15.273856Z"
    }
   },
   "id": "7adc864546e3bd20"
  },
  {
   "cell_type": "code",
   "execution_count": null,
   "outputs": [],
   "source": [],
   "metadata": {
    "collapsed": false
   },
   "id": "71edcf6ba28e56c"
  }
 ],
 "metadata": {
  "kernelspec": {
   "display_name": "Python 3 (ipykernel)",
   "language": "python",
   "name": "python3"
  },
  "language_info": {
   "codemirror_mode": {
    "name": "ipython",
    "version": 3
   },
   "file_extension": ".py",
   "mimetype": "text/x-python",
   "name": "python",
   "nbconvert_exporter": "python",
   "pygments_lexer": "ipython3",
   "version": "3.12.4"
  }
 },
 "nbformat": 4,
 "nbformat_minor": 5
}
