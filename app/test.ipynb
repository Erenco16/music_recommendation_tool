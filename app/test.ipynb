{
 "cells": [
  {
   "metadata": {
    "collapsed": true,
    "ExecuteTime": {
     "end_time": "2025-01-04T15:38:07.642638Z",
     "start_time": "2025-01-04T15:38:07.634947Z"
    }
   },
   "cell_type": "code",
   "source": [
    "from db_operations import readData\n",
    "import pandas as pd\n",
    "import requests\n",
    "from urllib.parse import quote"
   ],
   "id": "initial_id",
   "outputs": [],
   "execution_count": 121
  },
  {
   "metadata": {
    "ExecuteTime": {
     "end_time": "2025-01-04T15:38:07.656947Z",
     "start_time": "2025-01-04T15:38:07.652845Z"
    }
   },
   "cell_type": "code",
   "source": [
    "def get_artist_from_spotify(artist_name, token):\n",
    "    base_url = \"https://api.spotify.com/v1/search\"\n",
    "    artist_query = f\"artist:{artist_name}\"\n",
    "    encoded_query = quote(quote(artist_query))  # Double encode the query parameter\n",
    "    query_params = {\n",
    "        \"q\": encoded_query,\n",
    "        \"type\": \"artist\",\n",
    "        \"limit\": 1\n",
    "    }\n",
    "    headers = {\n",
    "    \"Authorization\": f\"Bearer {token}\"\n",
    "}\n",
    "    url = f\"{base_url}?q={query_params['q']}&type={query_params['type']}&limit={query_params['limit']}\"\n",
    "    return requests.get(url, headers=headers).json()\n",
    "\n",
    "    "
   ],
   "id": "645d56d6ad490953",
   "outputs": [],
   "execution_count": 122
  },
  {
   "metadata": {
    "ExecuteTime": {
     "end_time": "2025-01-04T15:38:07.680092Z",
     "start_time": "2025-01-04T15:38:07.677321Z"
    }
   },
   "cell_type": "code",
   "source": [
    "def get_access_token():  \n",
    "    response = requests.get(\"http://127.0.0.1:5000/get-access-token\")\n",
    "    if response.status_code == 200:\n",
    "        token = response.json().get('access_token')\n",
    "        headers = {\"Authorization\": f\"Bearer {token}\"}\n",
    "        return headers\n",
    "    else:\n",
    "        return None"
   ],
   "id": "66a3ab0210476bfd",
   "outputs": [],
   "execution_count": 123
  },
  {
   "metadata": {
    "ExecuteTime": {
     "end_time": "2025-01-04T15:38:10.340734Z",
     "start_time": "2025-01-04T15:38:07.690995Z"
    }
   },
   "cell_type": "code",
   "source": [
    "fpath = \"../data/lastfmdata/artists.dat\"\n",
    "\n",
    "df = pd.read_csv(fpath, delimiter='\\t').sample(n=10)\n",
    "token = get_access_token()\n",
    "for index, row in df.iterrows():\n",
    "    try:           \n",
    "        artist_json = get_artist_from_spotify(row['name'], token)['artists']['items'][0]\n",
    "        artist_id = artist_json['id']\n",
    "        artist_name = artist_json['name']\n",
    "        print(row['id'], row['name'], artist_id, artist_name)\n",
    "    except Exception as e:\n",
    "        print(f\"Error on the artist {row['name']}: {e}\")"
   ],
   "id": "596312f39ac687bd",
   "outputs": [
    {
     "name": "stdout",
     "output_type": "stream",
     "text": [
      "8571 The Crew Cuts 49ttCh41vxv6R4r8S2YwXv The Crew Cuts\n",
      "15295 Miss Emily Brown 4ubxOQV8EgQBKVKyqQ300L Miss Emily Brown\n",
      "16166 가인 5RDsGTC7Sox7MBMTAgqxde 가인화\n",
      "11422 Field Mouse 12zk67ZbWo5veMLDzNvzix Field Mouse\n",
      "18670 Lilit Pipoyan 5ycqonA9MnSA4noiw7WmEk Lilit Pipoyan\n",
      "14684 8 Bit Weapon 5ZJIoEzzBJvcV1bLYc8OzI 8 Bit Weapon & Computeher\n",
      "2337 Düş Sokağı Sakinleri 2QsEbhCFyEzogaOtMYeXO4 Düş Sokağı Sakinleri\n",
      "4747 Fireflight 5v6wlK6GCKVovWMbPqSHNy Fireflight\n",
      "8861 Nnenna Freelon 4WkgNR9kn136k50T4pc7RS Nnenna Freelon\n",
      "3890 Mazzy Star 37w38cCSGgKLdayTRjna4W Mazzy Star\n"
     ]
    }
   ],
   "execution_count": 124
  }
 ],
 "metadata": {
  "kernelspec": {
   "display_name": "Python 3",
   "language": "python",
   "name": "python3"
  },
  "language_info": {
   "codemirror_mode": {
    "name": "ipython",
    "version": 2
   },
   "file_extension": ".py",
   "mimetype": "text/x-python",
   "name": "python",
   "nbconvert_exporter": "python",
   "pygments_lexer": "ipython2",
   "version": "2.7.6"
  }
 },
 "nbformat": 4,
 "nbformat_minor": 5
}
